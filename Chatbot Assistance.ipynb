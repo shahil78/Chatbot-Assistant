{
 "cells": [
  {
   "cell_type": "code",
   "execution_count": 1,
   "metadata": {},
   "outputs": [
    {
     "name": "stdout",
     "output_type": "stream",
     "text": [
      "Defaulting to user installation because normal site-packages is not writeable\n",
      "Requirement already satisfied: flask in c:\\users\\shahi\\appdata\\roaming\\python\\python311\\site-packages (3.0.3)\n",
      "Requirement already satisfied: Werkzeug>=3.0.0 in c:\\users\\shahi\\appdata\\roaming\\python\\python311\\site-packages (from flask) (3.0.4)\n",
      "Requirement already satisfied: Jinja2>=3.1.2 in c:\\users\\shahi\\appdata\\roaming\\python\\python311\\site-packages (from flask) (3.1.4)\n",
      "Requirement already satisfied: itsdangerous>=2.1.2 in c:\\users\\shahi\\appdata\\roaming\\python\\python311\\site-packages (from flask) (2.2.0)\n",
      "Requirement already satisfied: click>=8.1.3 in c:\\users\\shahi\\appdata\\roaming\\python\\python311\\site-packages (from flask) (8.1.7)\n",
      "Requirement already satisfied: blinker>=1.6.2 in c:\\users\\shahi\\appdata\\roaming\\python\\python311\\site-packages (from flask) (1.8.2)\n",
      "Requirement already satisfied: colorama in c:\\users\\shahi\\appdata\\roaming\\python\\python311\\site-packages (from click>=8.1.3->flask) (0.4.6)\n",
      "Requirement already satisfied: MarkupSafe>=2.0 in c:\\users\\shahi\\appdata\\roaming\\python\\python311\\site-packages (from Jinja2>=3.1.2->flask) (2.1.5)\n"
     ]
    },
    {
     "name": "stderr",
     "output_type": "stream",
     "text": [
      "\n",
      "[notice] A new release of pip is available: 24.2 -> 25.0\n",
      "[notice] To update, run: python.exe -m pip install --upgrade pip\n"
     ]
    }
   ],
   "source": [
    "! pip install flask"
   ]
  },
  {
   "cell_type": "code",
   "execution_count": 2,
   "metadata": {},
   "outputs": [],
   "source": [
    "import sqlite3\n",
    "from flask import Flask, request, jsonify"
   ]
  },
  {
   "cell_type": "code",
   "execution_count": 3,
   "metadata": {},
   "outputs": [
    {
     "name": "stdout",
     "output_type": "stream",
     "text": [
      " * Serving Flask app '__main__'\n",
      " * Debug mode: on\n"
     ]
    },
    {
     "name": "stderr",
     "output_type": "stream",
     "text": [
      "WARNING: This is a development server. Do not use it in a production deployment. Use a production WSGI server instead.\n",
      " * Running on http://127.0.0.1:5000\n",
      "Press CTRL+C to quit\n",
      "127.0.0.1 - - [01/Feb/2025 23:48:29] \"GET / HTTP/1.1\" 200 -\n",
      "127.0.0.1 - - [01/Feb/2025 23:48:29] \"GET /favicon.ico HTTP/1.1\" 404 -\n",
      "127.0.0.1 - - [01/Feb/2025 23:48:53] \"GET / HTTP/1.1\" 200 -\n",
      "127.0.0.1 - - [01/Feb/2025 23:50:51] \"GET / HTTP/1.1\" 200 -\n",
      "127.0.0.1 - - [02/Feb/2025 00:07:06] \"GET / HTTP/1.1\" 200 -\n",
      "127.0.0.1 - - [02/Feb/2025 00:09:07] \"GET / HTTP/1.1\" 200 -\n",
      "127.0.0.1 - - [02/Feb/2025 00:09:14] \"GET / HTTP/1.1\" 200 -\n",
      "127.0.0.1 - - [02/Feb/2025 00:10:23] \"GET / HTTP/1.1\" 200 -\n",
      "127.0.0.1 - - [02/Feb/2025 00:11:25] \"GET / HTTP/1.1\" 200 -\n",
      "127.0.0.1 - - [02/Feb/2025 07:56:43] \"GET / HTTP/1.1\" 200 -\n"
     ]
    }
   ],
   "source": [
    "import sqlite3\n",
    "from flask import Flask, request, jsonify\n",
    "\n",
    "app = Flask(__name__)\n",
    "\n",
    "# Database connection\n",
    "def get_db_connection():\n",
    "    conn = sqlite3.connect('company_db_sql')\n",
    "    conn.row_factory = sqlite3.Row\n",
    "    return conn\n",
    "\n",
    "# Parse user query and generate SQL\n",
    "def parse_query(query):\n",
    "    query = query.lower()\n",
    "    if \"show me all employees in the\" in query:\n",
    "        department = query.split(\"department\")[0].split(\"the \")[-1].strip()\n",
    "        return f\"SELECT * FROM Employees WHERE Department = '{department.capitalize()}'\"\n",
    "    elif \"who is the manager of the\" in query:\n",
    "        department = query.split(\"department\")[0].split(\"the \")[-1].strip()\n",
    "        return f\"SELECT Manager FROM Departments WHERE Name = '{department.capitalize()}'\"\n",
    "    elif \"list all employees hired after\" in query:\n",
    "        date = query.split(\"after\")[-1].strip()\n",
    "        return f\"SELECT * FROM Employees WHERE Hire_date > '{date}'\"\n",
    "    elif \"what is the total salary expense for the\" in query:\n",
    "        department = query.split(\"department\")[0].split(\"the \")[-1].strip()\n",
    "        return f\"SELECT SUM(Salary) AS Total_Salary FROM Employees WHERE Department = '{department.capitalize()}'\"\n",
    "    else:\n",
    "        return None\n",
    "\n",
    "# Handle user queries\n",
    "@app.route('/query', methods=['POST'])\n",
    "def handle_query():\n",
    "    user_query = request.json.get('query')\n",
    "    if not user_query:\n",
    "        return jsonify({\"error\": \"No query provided\"}), 400\n",
    "\n",
    "    sql_query = parse_query(user_query)\n",
    "    if not sql_query:\n",
    "        return jsonify({\"error\": \"Unsupported query\"}), 400\n",
    "\n",
    "    conn = get_db_connection()\n",
    "    cursor = conn.cursor()\n",
    "    try:\n",
    "        cursor.execute(sql_query)\n",
    "        result = cursor.fetchall()\n",
    "        if not result:\n",
    "            return jsonify({\"response\": \"No results found\"}), 200\n",
    "        return jsonify({\"response\": [dict(row) for row in result]}), 200\n",
    "    except sqlite3.Error as e:\n",
    "        return jsonify({\"error\": str(e)}), 500\n",
    "    finally:\n",
    "        conn.close()\n",
    "\n",
    "# Home route\n",
    "@app.route('/')\n",
    "def home():\n",
    "    return \"Welcome to the Company Chat Assistant!\"\n",
    "\n",
    "# Run the app\n",
    "if __name__ == '__main__':\n",
    "    app.run(debug=True, use_reloader=False)"
   ]
  }
 ],
 "metadata": {
  "kernelspec": {
   "display_name": "Python 3",
   "language": "python",
   "name": "python3"
  },
  "language_info": {
   "codemirror_mode": {
    "name": "ipython",
    "version": 3
   },
   "file_extension": ".py",
   "mimetype": "text/x-python",
   "name": "python",
   "nbconvert_exporter": "python",
   "pygments_lexer": "ipython3",
   "version": "3.11.3"
  }
 },
 "nbformat": 4,
 "nbformat_minor": 2
}
